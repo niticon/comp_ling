{
 "cells": [
  {
   "cell_type": "code",
   "execution_count": 108,
   "metadata": {},
   "outputs": [],
   "source": [
    "import numpy as np\n",
    "import pandas as pd\n",
    "import re\n",
    "\n",
    "from keras.preprocessing.text import Tokenizer\n",
    "from keras.preprocessing.sequence import pad_sequences\n",
    "from keras.models import Sequential\n",
    "from keras.layers import Dense, Embedding, LSTM, SpatialDropout1D\n",
    "from keras.layers import Flatten\n",
    "from keras.utils.np_utils import to_categorical\n",
    "\n",
    "from sklearn.model_selection import train_test_split\n",
    "from sklearn.feature_extraction.text import CountVectorizer"
   ]
  },
  {
   "cell_type": "code",
   "execution_count": 109,
   "metadata": {},
   "outputs": [
    {
     "data": {
      "text/html": [
       "<div>\n",
       "<style scoped>\n",
       "    .dataframe tbody tr th:only-of-type {\n",
       "        vertical-align: middle;\n",
       "    }\n",
       "\n",
       "    .dataframe tbody tr th {\n",
       "        vertical-align: top;\n",
       "    }\n",
       "\n",
       "    .dataframe thead th {\n",
       "        text-align: right;\n",
       "    }\n",
       "</style>\n",
       "<table border=\"1\" class=\"dataframe\">\n",
       "  <thead>\n",
       "    <tr style=\"text-align: right;\">\n",
       "      <th></th>\n",
       "      <th>gender</th>\n",
       "      <th>ratings</th>\n",
       "    </tr>\n",
       "  </thead>\n",
       "  <tbody>\n",
       "    <tr>\n",
       "      <th>0</th>\n",
       "      <td>m</td>\n",
       "      <td>[{'id': 7, 'name': 'Funny', 'count': 19645}, {...</td>\n",
       "    </tr>\n",
       "    <tr>\n",
       "      <th>1</th>\n",
       "      <td>m</td>\n",
       "      <td>[{'id': 7, 'name': 'Funny', 'count': 544}, {'i...</td>\n",
       "    </tr>\n",
       "    <tr>\n",
       "      <th>2</th>\n",
       "      <td>m</td>\n",
       "      <td>[{'id': 7, 'name': 'Funny', 'count': 964}, {'i...</td>\n",
       "    </tr>\n",
       "    <tr>\n",
       "      <th>3</th>\n",
       "      <td>f</td>\n",
       "      <td>[{'id': 3, 'name': 'Courageous', 'count': 760}...</td>\n",
       "    </tr>\n",
       "    <tr>\n",
       "      <th>4</th>\n",
       "      <td>m</td>\n",
       "      <td>[{'id': 9, 'name': 'Ingenious', 'count': 3202}...</td>\n",
       "    </tr>\n",
       "    <tr>\n",
       "      <th>...</th>\n",
       "      <td>...</td>\n",
       "      <td>...</td>\n",
       "    </tr>\n",
       "    <tr>\n",
       "      <th>995</th>\n",
       "      <td>f</td>\n",
       "      <td>[{'id': 1, 'name': 'Beautiful', 'count': 298},...</td>\n",
       "    </tr>\n",
       "    <tr>\n",
       "      <th>996</th>\n",
       "      <td>m</td>\n",
       "      <td>[{'id': 24, 'name': 'Persuasive', 'count': 67}...</td>\n",
       "    </tr>\n",
       "    <tr>\n",
       "      <th>997</th>\n",
       "      <td>m</td>\n",
       "      <td>[{'id': 24, 'name': 'Persuasive', 'count': 106...</td>\n",
       "    </tr>\n",
       "    <tr>\n",
       "      <th>998</th>\n",
       "      <td>m</td>\n",
       "      <td>[{'id': 10, 'name': 'Inspiring', 'count': 1729...</td>\n",
       "    </tr>\n",
       "    <tr>\n",
       "      <th>999</th>\n",
       "      <td>m</td>\n",
       "      <td>[{'id': 23, 'name': 'Jaw-dropping', 'count': 1...</td>\n",
       "    </tr>\n",
       "  </tbody>\n",
       "</table>\n",
       "<p>1000 rows × 2 columns</p>\n",
       "</div>"
      ],
      "text/plain": [
       "    gender                                            ratings\n",
       "0        m  [{'id': 7, 'name': 'Funny', 'count': 19645}, {...\n",
       "1        m  [{'id': 7, 'name': 'Funny', 'count': 544}, {'i...\n",
       "2        m  [{'id': 7, 'name': 'Funny', 'count': 964}, {'i...\n",
       "3        f  [{'id': 3, 'name': 'Courageous', 'count': 760}...\n",
       "4        m  [{'id': 9, 'name': 'Ingenious', 'count': 3202}...\n",
       "..     ...                                                ...\n",
       "995      f  [{'id': 1, 'name': 'Beautiful', 'count': 298},...\n",
       "996      m  [{'id': 24, 'name': 'Persuasive', 'count': 67}...\n",
       "997      m  [{'id': 24, 'name': 'Persuasive', 'count': 106...\n",
       "998      m  [{'id': 10, 'name': 'Inspiring', 'count': 1729...\n",
       "999      m  [{'id': 23, 'name': 'Jaw-dropping', 'count': 1...\n",
       "\n",
       "[1000 rows x 2 columns]"
      ]
     },
     "execution_count": 109,
     "metadata": {},
     "output_type": "execute_result"
    }
   ],
   "source": [
    "data = pd.read_csv('/Users/niticon/ling575/ted-talks/xls_ted_main.csv')\n",
    "data = data[['gender', 'ratings']]\n",
    "\n",
    "data.head(1000)"
   ]
  },
  {
   "cell_type": "code",
   "execution_count": 175,
   "metadata": {},
   "outputs": [],
   "source": [
    "data['ratings'] = data['ratings'].apply(lambda x: x.lower())\n",
    "data['ratings'] = data['ratings'].apply((lambda x: re.sub(r'[^a-zA-z0-9\\s]','',x)))\n",
    "data['ratings'] = data['ratings'].apply((lambda x: re.sub('id','',x)))\n",
    "data['ratings'] = data['ratings'].apply((lambda x: re.sub('name','',x)))\n",
    "data['ratings'] = data['ratings'].apply((lambda x: re.sub('count','',x)))\n",
    "data['ratings'] = data['ratings'].apply((lambda x: re.sub(r'[0-9]','',x)))\n",
    "\n",
    "for idx,row in data.iterrows():\n",
    "    row[0] = row[0].replace('id', r'[0-9]')\n",
    "\n",
    "max_features = 5000\n",
    "tokenizer = Tokenizer(num_words=max_features, split=' ')\n",
    "tokenizer.fit_on_texts(data['ratings'].values)\n",
    "\n",
    "X = tokenizer.texts_to_sequences(data['ratings'].values)\n",
    "X = pad_sequences(X)"
   ]
  },
  {
   "cell_type": "code",
   "execution_count": 176,
   "metadata": {},
   "outputs": [
    {
     "data": {
      "text/plain": [
       "0    [   funny      beautiful      ingenious      c...\n",
       "1    [   funny      courageous      confusing      ...\n",
       "2    [   funny      courageous      ingenious      ...\n",
       "3    [   courageous      beautiful      confusing  ...\n",
       "4    [   ingenious      funny      beautiful      c...\n",
       "Name: ratings, dtype: object"
      ]
     },
     "execution_count": 176,
     "metadata": {},
     "output_type": "execute_result"
    }
   ],
   "source": [
    "data['ratings'].head()"
   ]
  },
  {
   "cell_type": "code",
   "execution_count": 189,
   "metadata": {},
   "outputs": [
    {
     "name": "stdout",
     "output_type": "stream",
     "text": [
      "Model: \"sequential_19\"\n",
      "_________________________________________________________________\n",
      "Layer (type)                 Output Shape              Param #   \n",
      "=================================================================\n",
      "embedding_19 (Embedding)     (None, 14, 64)            320000    \n",
      "_________________________________________________________________\n",
      "flatten_19 (Flatten)         (None, 896)               0         \n",
      "_________________________________________________________________\n",
      "dense_38 (Dense)             (None, 300)               269100    \n",
      "_________________________________________________________________\n",
      "dense_39 (Dense)             (None, 2460)              740460    \n",
      "=================================================================\n",
      "Total params: 1,329,560\n",
      "Trainable params: 1,329,560\n",
      "Non-trainable params: 0\n",
      "_________________________________________________________________\n",
      "None\n"
     ]
    }
   ],
   "source": [
    "embed_dim = 128\n",
    "lstm_out = 196\n",
    "\n",
    "model = Sequential()\n",
    "model.add(Embedding(max_features, 64, input_length=X.shape[1]))\n",
    "model.add(Flatten())\n",
    "model.add(Dense(300, activation='relu'))\n",
    "model.add(Dense(2460, activation='sigmoid'))\n",
    "model.compile(loss='binary_crossentropy', optimizer='adam', metrics=['accuracy'],)\n",
    "\n",
    "print(model.summary())"
   ]
  },
  {
   "cell_type": "code",
   "execution_count": 190,
   "metadata": {},
   "outputs": [
    {
     "name": "stdout",
     "output_type": "stream",
     "text": [
      "(1648, 14) (1648, 2460)\n",
      "(812, 14) (812, 2460)\n"
     ]
    }
   ],
   "source": [
    "Y = pd.get_dummies(data['ratings']).values\n",
    "\n",
    "X_train, X_test, Y_train, Y_test = train_test_split(X, Y, test_size = 0.33, random_state = 42)\n",
    "\n",
    "print(X_train.shape,Y_train.shape)\n",
    "print(X_test.shape,Y_test.shape)"
   ]
  },
  {
   "cell_type": "code",
   "execution_count": 191,
   "metadata": {},
   "outputs": [
    {
     "name": "stdout",
     "output_type": "stream",
     "text": [
      "Epoch 1/32\n",
      "103/103 [==============================] - 0s 4ms/step - loss: 0.1276 - accuracy: 0.0000e+00\n",
      "Epoch 2/32\n",
      "103/103 [==============================] - 0s 5ms/step - loss: 0.0040 - accuracy: 0.0000e+00\n",
      "Epoch 3/32\n",
      "103/103 [==============================] - 0s 5ms/step - loss: 0.0037 - accuracy: 0.0000e+00\n",
      "Epoch 4/32\n",
      "103/103 [==============================] - 1s 5ms/step - loss: 0.0036 - accuracy: 0.0000e+00\n",
      "Epoch 5/32\n",
      "103/103 [==============================] - 0s 5ms/step - loss: 0.0036 - accuracy: 0.0000e+00\n",
      "Epoch 6/32\n",
      "103/103 [==============================] - 0s 4ms/step - loss: 0.0037 - accuracy: 0.0000e+00\n",
      "Epoch 7/32\n",
      "103/103 [==============================] - 0s 4ms/step - loss: 0.0037 - accuracy: 0.0000e+00\n",
      "Epoch 8/32\n",
      "103/103 [==============================] - 0s 4ms/step - loss: 0.0037 - accuracy: 0.0000e+00\n",
      "Epoch 9/32\n",
      "103/103 [==============================] - 0s 4ms/step - loss: 0.0037 - accuracy: 0.0000e+00\n",
      "Epoch 10/32\n",
      "103/103 [==============================] - 0s 4ms/step - loss: 0.0037 - accuracy: 0.0000e+00\n",
      "Epoch 11/32\n",
      "103/103 [==============================] - 0s 4ms/step - loss: 0.0037 - accuracy: 0.0000e+00\n",
      "Epoch 12/32\n",
      "103/103 [==============================] - 0s 5ms/step - loss: 0.0037 - accuracy: 0.0000e+00\n",
      "Epoch 13/32\n",
      "103/103 [==============================] - 1s 5ms/step - loss: 0.0037 - accuracy: 0.0000e+00\n",
      "Epoch 14/32\n",
      "103/103 [==============================] - 0s 4ms/step - loss: 0.0037 - accuracy: 0.0000e+00\n",
      "Epoch 15/32\n",
      "103/103 [==============================] - 0s 4ms/step - loss: 0.0036 - accuracy: 0.0000e+00\n",
      "Epoch 16/32\n",
      "103/103 [==============================] - 0s 4ms/step - loss: 0.0036 - accuracy: 0.0000e+00\n",
      "Epoch 17/32\n",
      "103/103 [==============================] - 0s 4ms/step - loss: 0.0036 - accuracy: 0.0000e+00\n",
      "Epoch 18/32\n",
      "103/103 [==============================] - 0s 5ms/step - loss: 0.0036 - accuracy: 6.0680e-04\n",
      "Epoch 19/32\n",
      "103/103 [==============================] - 0s 5ms/step - loss: 0.0036 - accuracy: 6.0680e-04\n",
      "Epoch 20/32\n",
      "103/103 [==============================] - 0s 4ms/step - loss: 0.0035 - accuracy: 6.0680e-04\n",
      "Epoch 21/32\n",
      "103/103 [==============================] - 0s 5ms/step - loss: 0.0035 - accuracy: 0.0000e+00\n",
      "Epoch 22/32\n",
      "103/103 [==============================] - 0s 4ms/step - loss: 0.0035 - accuracy: 0.0012\n",
      "Epoch 23/32\n",
      "103/103 [==============================] - 0s 4ms/step - loss: 0.0034 - accuracy: 0.0024\n",
      "Epoch 24/32\n",
      "103/103 [==============================] - 1s 5ms/step - loss: 0.0033 - accuracy: 0.0079\n",
      "Epoch 25/32\n",
      "103/103 [==============================] - 1s 5ms/step - loss: 0.0032 - accuracy: 0.0115\n",
      "Epoch 26/32\n",
      "103/103 [==============================] - 1s 6ms/step - loss: 0.0031 - accuracy: 0.0176\n",
      "Epoch 27/32\n",
      "103/103 [==============================] - 1s 6ms/step - loss: 0.0028 - accuracy: 0.0492\n",
      "Epoch 28/32\n",
      "103/103 [==============================] - 1s 5ms/step - loss: 0.0026 - accuracy: 0.1347\n",
      "Epoch 29/32\n",
      "103/103 [==============================] - 0s 5ms/step - loss: 0.0022 - accuracy: 0.3744\n",
      "Epoch 30/32\n",
      "103/103 [==============================] - 0s 4ms/step - loss: 0.0018 - accuracy: 0.7118\n",
      "Epoch 31/32\n",
      "103/103 [==============================] - 0s 5ms/step - loss: 0.0014 - accuracy: 0.9096\n",
      "Epoch 32/32\n",
      "103/103 [==============================] - 0s 5ms/step - loss: 9.0532e-04 - accuracy: 0.9854\n"
     ]
    },
    {
     "data": {
      "text/plain": [
       "<tensorflow.python.keras.callbacks.History at 0x14d084400>"
      ]
     },
     "execution_count": 191,
     "metadata": {},
     "output_type": "execute_result"
    }
   ],
   "source": [
    "batch_size = 16\n",
    "model.fit(X_train, Y_train, epochs=32, batch_size=batch_size, verbose = 1)"
   ]
  },
  {
   "cell_type": "code",
   "execution_count": 192,
   "metadata": {},
   "outputs": [
    {
     "name": "stdout",
     "output_type": "stream",
     "text": [
      "26/26 [==============================] - 0s 3ms/step - loss: 0.0065 - accuracy: 0.0000e+00\n",
      "score: 0.01\n",
      "acc: 0.00\n"
     ]
    }
   ],
   "source": [
    "validation_size = 1500\n",
    "\n",
    "X_validate = X_test[-validation_size:]\n",
    "Y_validate = Y_test[-validation_size:]\n",
    "\n",
    "X_test = X_test[:-validation_size]\n",
    "Y_test = Y_test[:-validation_size]\n",
    "\n",
    "#score, acc = model.evaluate(X_test, Y_test, verbose = 2, batch_size = batch_size)\n",
    "score, acc = model.evaluate(X_validate, Y_validate, verbose = 1)\n",
    "\n",
    "print(\"score: %.2f\" % score)\n",
    "print(\"acc: %.2f\" % acc)"
   ]
  },
  {
   "cell_type": "code",
   "execution_count": null,
   "metadata": {},
   "outputs": [],
   "source": []
  }
 ],
 "metadata": {
  "kernelspec": {
   "display_name": "Python 3",
   "language": "python",
   "name": "python3"
  },
  "language_info": {
   "codemirror_mode": {
    "name": "ipython",
    "version": 3
   },
   "file_extension": ".py",
   "mimetype": "text/x-python",
   "name": "python",
   "nbconvert_exporter": "python",
   "pygments_lexer": "ipython3",
   "version": "3.8.5"
  }
 },
 "nbformat": 4,
 "nbformat_minor": 4
}
